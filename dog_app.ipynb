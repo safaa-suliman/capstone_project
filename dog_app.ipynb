{
 "cells": [
  {
   "cell_type": "markdown",
   "metadata": {},
   "source": [
    "# Data Scientist Nanodegree\n",
    "\n",
    "## Convolutional Neural Networks\n",
    "\n",
    "## Project: Write an Algorithm for a Dog Identification App \n",
    "\n",
    "\n",
    "This notebook walks you through one of the most popular Udacity projects across machine learning and artificial intellegence nanodegree programs.  The goal is to classify images of dogs according to their breed.  \n",
    "\n",
    "If you are looking for a more guided capstone project related to deep learning and convolutional neural networks, this might be just it.  Notice that even if you follow the notebook to creating your classifier, you must still create a blog post or deploy an application to fulfill the requirements of the capstone project.\n",
    "\n",
    "Also notice, you may be able to use only parts of this notebook (for example certain coding portions or the data) without completing all parts and still meet all requirements of the capstone project.\n",
    "\n",
    "---\n",
    "\n",
    "In this notebook, some template code has already been provided for you, and you will need to implement additional functionality to successfully complete this project. You will not need to modify the included code beyond what is requested. Sections that begin with **'(IMPLEMENTATION)'** in the header indicate that the following block of code will require additional functionality which you must provide. Instructions will be provided for each section, and the specifics of the implementation are marked in the code block with a 'TODO' statement. Please be sure to read the instructions carefully! \n",
    "\n",
    "In addition to implementing code, there will be questions that you must answer which relate to the project and your implementation. Each section where you will answer a question is preceded by a **'Question X'** header. Carefully read each question and provide thorough answers in the following text boxes that begin with **'Answer:'**. Your project submission will be evaluated based on your answers to each of the questions and the implementation you provide.\n",
    "\n",
    ">**Note:** Code and Markdown cells can be executed using the **Shift + Enter** keyboard shortcut.  Markdown cells can be edited by double-clicking the cell to enter edit mode.\n",
    "\n",
    "The rubric contains _optional_ \"Stand Out Suggestions\" for enhancing the project beyond the minimum requirements. If you decide to pursue the \"Stand Out Suggestions\", you should include the code in this IPython notebook.\n",
    "\n",
    "\n",
    "\n",
    "---\n",
    "### Why We're Here \n",
    "\n",
    "In this notebook, you will make the first steps towards developing an algorithm that could be used as part of a mobile or web app.  At the end of this project, your code will accept any user-supplied image as input.  If a dog is detected in the image, it will provide an estimate of the dog's breed.  If a human is detected, it will provide an estimate of the dog breed that is most resembling.  The image below displays potential sample output of your finished project (... but we expect that each student's algorithm will behave differently!). \n",
    "\n",
    "![Sample Dog Output](images/sample_dog_output.png)\n",
    "\n",
    "In this real-world setting, you will need to piece together a series of models to perform different tasks; for instance, the algorithm that detects humans in an image will be different from the CNN that infers dog breed.  There are many points of possible failure, and no perfect algorithm exists.  Your imperfect solution will nonetheless create a fun user experience!\n",
    "\n",
    "### The Road Ahead\n",
    "\n",
    "We break the notebook into separate steps.  Feel free to use the links below to navigate the notebook.\n",
    "\n",
    "* [Step 0](#step0): Import Datasets\n",
    "* [Step 1](#step1): Detect Humans\n",
    "* [Step 2](#step2): Detect Dogs\n",
    "* [Step 3](#step3): Create a CNN to Classify Dog Breeds (from Scratch)\n",
    "* [Step 4](#step4): Use a CNN to Classify Dog Breeds (using Transfer Learning)\n",
    "* [Step 5](#step5): Create a CNN to Classify Dog Breeds (using Transfer Learning)\n",
    "* [Step 6](#step6): Write your Algorithm\n",
    "* [Step 7](#step7): Test Your Algorithm\n",
    "\n",
    "---\n",
    "<a id='step0'></a>\n",
    "## Step 0: Import Datasets\n",
    "\n",
    "### Import Dog Dataset\n",
    "\n",
    "In the code cell below, we import a dataset of dog images.  We populate a few variables through the use of the `load_files` function from the scikit-learn library:\n",
    "- `train_files`, `valid_files`, `test_files` - numpy arrays containing file paths to images\n",
    "- `train_targets`, `valid_targets`, `test_targets` - numpy arrays containing onehot-encoded classification labels \n",
    "- `dog_names` - list of string-valued dog breed names for translating labels"
   ]
  },
  {
   "cell_type": "code",
   "execution_count": 71,
   "metadata": {},
   "outputs": [
    {
     "name": "stdout",
     "output_type": "stream",
     "text": [
      "There are 133 total dog categories.\n",
      "There are 8351 total dog images.\n",
      "\n",
      "There are 6680 training dog images.\n",
      "There are 835 validation dog images.\n",
      "There are 836 test dog images.\n"
     ]
    }
   ],
   "source": [
    "from sklearn.datasets import load_files       \n",
    "from keras.utils import np_utils\n",
    "#from tensorflow.keras.utils import np_utils\n",
    "#import tensorflow.keras as keras\n",
    "from tensorflow import keras\n",
    "import os\n",
    "import tensorflow as tf\n",
    "\n",
    "import keras\n",
    "import numpy as np\n",
    "from glob import glob\n",
    "\n",
    "\n",
    "# define function to load train, test, and validation datasets\n",
    "def load_dataset(path):\n",
    "    data = load_files(path)\n",
    "    dog_files = np.array(data['filenames'])\n",
    "    dog_targets = np_utils.to_categorical(np.array(data['target']), 133)\n",
    "    return dog_files, dog_targets\n",
    "\n",
    "# load train, test, and validation datasets\n",
    "train_files, train_targets = load_dataset('../../../data/dog_images/train')\n",
    "valid_files, valid_targets = load_dataset('../../../data/dog_images/valid')\n",
    "test_files, test_targets = load_dataset('../../../data/dog_images/test')\n",
    "\n",
    "# load list of dog names\n",
    "dog_names = [item[20:-1] for item in sorted(glob(\"../../../data/dog_images/train/*/\"))]\n",
    "\n",
    "# print statistics about the dataset\n",
    "print('There are %d total dog categories.' % len(dog_names))\n",
    "print('There are %s total dog images.\\n' % len(np.hstack([train_files, valid_files, test_files])))\n",
    "print('There are %d training dog images.' % len(train_files))\n",
    "print('There are %d validation dog images.' % len(valid_files))\n",
    "print('There are %d test dog images.'% len(test_files))"
   ]
  },
  {
   "cell_type": "markdown",
   "metadata": {},
   "source": [
    "### Import Human Dataset\n",
    "\n",
    "In the code cell below, we import a dataset of human images, where the file paths are stored in the numpy array `human_files`."
   ]
  },
  {
   "cell_type": "code",
   "execution_count": 2,
   "metadata": {},
   "outputs": [
    {
     "name": "stdout",
     "output_type": "stream",
     "text": [
      "There are 13233 total human images.\n"
     ]
    }
   ],
   "source": [
    "import random\n",
    "random.seed(8675309)\n",
    "\n",
    "# load filenames in shuffled human dataset\n",
    "human_files = np.array(glob(\"../../../data/lfw/*/*\"))\n",
    "random.shuffle(human_files)\n",
    "\n",
    "# print statistics about the dataset\n",
    "print('There are %d total human images.' % len(human_files))"
   ]
  },
  {
   "cell_type": "markdown",
   "metadata": {},
   "source": [
    "---\n",
    "<a id='step1'></a>\n",
    "## Step 1: Detect Humans\n",
    "\n",
    "We use OpenCV's implementation of [Haar feature-based cascade classifiers](http://docs.opencv.org/trunk/d7/d8b/tutorial_py_face_detection.html) to detect human faces in images.  OpenCV provides many pre-trained face detectors, stored as XML files on [github](https://github.com/opencv/opencv/tree/master/data/haarcascades).  We have downloaded one of these detectors and stored it in the `haarcascades` directory.\n",
    "\n",
    "In the next code cell, we demonstrate how to use this detector to find human faces in a sample image."
   ]
  },
  {
   "cell_type": "code",
   "execution_count": 3,
   "metadata": {},
   "outputs": [
    {
     "name": "stdout",
     "output_type": "stream",
     "text": [
      "Number of faces detected: 1\n"
     ]
    },
    {
     "data": {
      "image/png": "[encoded data removed]",
      "text/plain": [
       "<matplotlib.figure.Figure at 0x7fd932f25cf8>"
      ]
     },
     "metadata": {
      "needs_background": "light"
     },
     "output_type": "display_data"
    }
   ],
   "source": [
    "import cv2                \n",
    "import matplotlib.pyplot as plt                        \n",
    "%matplotlib inline                               \n",
    "\n",
    "# extract pre-trained face detector\n",
    "face_cascade = cv2.CascadeClassifier('haarcascades/haarcascade_frontalface_alt.xml')\n",
    "\n",
    "# load color (BGR) image\n",
    "img = cv2.imread(human_files[3])\n",
    "# convert BGR image to grayscale\n",
    "gray = cv2.cvtColor(img, cv2.COLOR_BGR2GRAY)\n",
    "\n",
    "# find faces in image\n",
    "faces = face_cascade.detectMultiScale(gray)\n",
    "\n",
    "# print number of faces detected in the image\n",
    "print('Number of faces detected:', len(faces))\n",
    "\n",
    "# get bounding box for each detected face\n",
    "for (x,y,w,h) in faces:\n",
    "    # add bounding box to color image\n",
    "    cv2.rectangle(img,(x,y),(x+w,y+h),(255,0,0),2)\n",
    "    \n",
    "# convert BGR image to RGB for plotting\n",
    "cv_rgb = cv2.cvtColor(img, cv2.COLOR_BGR2RGB)\n",
    "\n",
    "# display the image, along with bounding box\n",
    "plt.imshow(cv_rgb)\n",
    "plt.show()"
   ]
  },
  {
   "cell_type": "markdown",
   "metadata": {},
   "source": [
    "Before using any of the face detectors, it is standard procedure to convert the images to grayscale.  The `detectMultiScale` function executes the classifier stored in `face_cascade` and takes the grayscale image as a parameter.  \n",
    "\n",
    "In the above code, `faces` is a numpy array of detected faces, where each row corresponds to a detected face.  Each detected face is a 1D array with four entries that specifies the bounding box of the detected face.  The first two entries in the array (extracted in the above code as `x` and `y`) specify the horizontal and vertical positions of the top left corner of the bounding box.  The last two entries in the array (extracted here as `w` and `h`) specify the width and height of the box.\n",
    "\n",
    "### Write a Human Face Detector\n",
    "\n",
    "We can use this procedure to write a function that returns `True` if a human face is detected in an image and `False` otherwise.  This function, aptly named `face_detector`, takes a string-valued file path to an image as input and appears in the code block below."
   ]
  },
  {
   "cell_type": "code",
   "execution_count": 4,
   "metadata": {},
   "outputs": [],
   "source": [
    "# returns \"True\" if face is detected in image stored at img_path\n",
    "def face_detector(img_path):\n",
    "    img = cv2.imread(img_path)\n",
    "    gray = cv2.cvtColor(img, cv2.COLOR_BGR2GRAY)\n",
    "    faces = face_cascade.detectMultiScale(gray)\n",
    "    return len(faces) > 0"
   ]
  },
  {
   "cell_type": "markdown",
   "metadata": {},
   "source": [
    "### (IMPLEMENTATION) Assess the Human Face Detector\n",
    "\n",
    "__Question 1:__ Use the code cell below to test the performance of the `face_detector` function.  \n",
    "- What percentage of the first 100 images in `human_files` have a detected human face?  \n",
    "- What percentage of the first 100 images in `dog_files` have a detected human face? \n",
    "\n",
    "Ideally, we would like 100% of human images with a detected face and 0% of dog images with a detected face.  You will see that our algorithm falls short of this goal, but still gives acceptable performance.  We extract the file paths for the first 100 images from each of the datasets and store them in the numpy arrays `human_files_short` and `dog_files_short`.\n",
    "\n",
    "__Answer:__ "
   ]
  },
  {
   "cell_type": "code",
   "execution_count": 5,
   "metadata": {},
   "outputs": [
    {
     "name": "stdout",
     "output_type": "stream",
     "text": [
      "Percentage of human faces detected in human_files_short: 100.00%\n",
      "Percentage of dog faces detected in dog_files_short: 11.00%\n"
     ]
    }
   ],
   "source": [
    "human_files_short = human_files[:100]\n",
    "dog_files_short = train_files[:100]\n",
    "# Do NOT modify the code above this line.\n",
    "\n",
    "## TODO: Test the performance of the face_detector algorithm \n",
    "## on the images in human_files_short and dog_files_short.\n",
    "human_faces_count = 0\n",
    "dog_faces_count = 0\n",
    "\n",
    "for human_file in human_files_short:\n",
    "    if face_detector(human_file):\n",
    "        human_faces_count += 1\n",
    "        \n",
    "for dog_file in dog_files_short:\n",
    "    if face_detector(dog_file):\n",
    "        dog_faces_count += 1\n",
    "\n",
    "print('Percentage of human faces detected in human_files_short: {:.2%}'.format(human_faces_count / len(human_files_short)))\n",
    "print('Percentage of dog faces detected in dog_files_short: {:.2%}'.format(dog_faces_count / len(dog_files_short)))\n"
   ]
  },
  {
   "cell_type": "markdown",
   "metadata": {},
   "source": [
    "__Question 2:__ This algorithmic choice necessitates that we communicate to the user that we accept human images only when they provide a clear view of a face (otherwise, we risk having unneccessarily frustrated users!). In your opinion, is this a reasonable expectation to pose on the user? If not, can you think of a way to detect humans in images that does not necessitate an image with a clearly presented face?\n",
    "\n",
    "__Answer:__\n",
    "\n",
    "We suggest the face detector from OpenCV as a potential way to detect human images in your algorithm, but you are free to explore other approaches, especially approaches that make use of deep learning :).  Please use the code cell below to design and test your own face detection algorithm.  If you decide to pursue this _optional_ task, report performance on each of the datasets."
   ]
  },
  {
   "cell_type": "code",
   "execution_count": 6,
   "metadata": {},
   "outputs": [],
   "source": [
    "## (Optional) TODO: Report the performance of another  \n",
    "## face detection algorithm on the LFW dataset\n",
    "### Feel free to use as many code cells as needed."
   ]
  },
  {
   "cell_type": "markdown",
   "metadata": {},
   "source": [
    "### we can use the One popular face detection algorithm, deep learning-based face detector in the OpenCV's DNN module, which uses a pre-trained Single Shot Detector (SSD) network with ResNet-10 architecture to detect faces in images."
   ]
  },
  {
   "cell_type": "code",
   "execution_count": 7,
   "metadata": {},
   "outputs": [],
   "source": [
    "# load pre-trained deep learning face detector\n",
    "# face_net = cv2.dnn.readNetFromCaffe('saved_models/deploy.prototxt', 'models/res10_300x300_ssd_iter_140000.caffemodel')\n",
    "\n",
    "# human_faces_count = 0\n",
    "# dog_faces_count = 0\n",
    "\n",
    "#for human_file in human_files_short:\n",
    "   # img = cv2.imread(human_file)\n",
    "   # (h, w) = img.shape[:2]\n",
    "    \n",
    "   "
   ]
  },
  {
   "cell_type": "code",
   "execution_count": 8,
   "metadata": {},
   "outputs": [],
   "source": [
    " # construct a blob from the image and pass it through the face detector\n",
    "  #  blob = cv2.dnn.blobFromImage(cv2.resize(img, (300, 300)), 1.0, (300, 300), (104.0, 177.0, 123.0))\n",
    "  #  face_net.setInput(blob)\n",
    "  #  detections = face_net.forward()\n",
    "\n",
    "    # loop over the detections and get the confidence and bounding box coordinates of each face\n",
    "    #for i in range(0, detections.shape[2]):\n",
    "     #   confidence = detections[0, 0, i, 2]\n",
    "\n",
    "       "
   ]
  },
  {
   "cell_type": "code",
   "execution_count": 9,
   "metadata": {},
   "outputs": [],
   "source": [
    " # filter out weak detections by ensuring the confidence is greater than the minimum confidence threshold\n",
    "    #    if confidence > 0.5:\n",
    "       #     box = detections[0, 0, i, 3:7] * np.array([w, h, w, h])\n",
    "      #      (startX, startY, endX, endY) = box.astype(\"int\")\n",
    "\n",
    "           "
   ]
  },
  {
   "cell_type": "code",
   "execution_count": 10,
   "metadata": {},
   "outputs": [],
   "source": [
    " # add bounding box to image and increment face count\n",
    "      #      cv2.rectangle(img, (startX, startY), (endX, endY), (0, 255, 0), 2)\n",
    "     #       human_faces_count += 1\n",
    "\n",
    "#for dog_file in dog_files_short:\n",
    " #   if face_detector(dog_file):\n",
    "  #      dog_faces_count += 1\n",
    "\n",
    "#print('Percentage of human faces detected by OpenCV DNN on human_files_short: {:.2%}'.format(human_faces_count / len(human_files_short)))\n",
    "#print('Percentage of dog faces detected by Haar cascades on dog_files_short: {:.2%}'.format(dog_faces_count / len(dog_files_short)))\n"
   ]
  },
  {
   "cell_type": "markdown",
   "metadata": {},
   "source": [
    "### I used the above code, but something goes wrong"
   ]
  },
  {
   "cell_type": "markdown",
   "metadata": {},
   "source": [
    "---\n",
    "<a id='step2'></a>\n",
    "## Step 2: Detect Dogs\n",
    "\n",
    "In this section, we use a pre-trained [ResNet-50](http://ethereon.github.io/netscope/#/gist/db945b393d40bfa26006) model to detect dogs in images.  Our first line of code downloads the ResNet-50 model, along with weights that have been trained on [ImageNet](http://www.image-net.org/), a very large, very popular dataset used for image classification and other vision tasks.  ImageNet contains over 10 million URLs, each linking to an image containing an object from one of [1000 categories](https://gist.github.com/yrevar/942d3a0ac09ec9e5eb3a).  Given an image, this pre-trained ResNet-50 model returns a prediction (derived from the available categories in ImageNet) for the object that is contained in the image."
   ]
  },
  {
   "cell_type": "code",
   "execution_count": 11,
   "metadata": {},
   "outputs": [
    {
     "name": "stdout",
     "output_type": "stream",
     "text": [
      "Downloading data from https://github.com/fchollet/deep-learning-models/releases/download/v0.2/resnet50_weights_tf_dim_ordering_tf_kernels.h5\n",
      "102858752/102853048 [==============================] - 1s 0us/step\n"
     ]
    }
   ],
   "source": [
    "from keras.applications.resnet50 import ResNet50\n",
    "\n",
    "# define ResNet50 model\n",
    "ResNet50_model = ResNet50(weights='imagenet')"
   ]
  },
  {
   "cell_type": "markdown",
   "metadata": {},
   "source": [
    "### Pre-process the Data\n",
    "\n",
    "When using TensorFlow as backend, Keras CNNs require a 4D array (which we'll also refer to as a 4D tensor) as input, with shape\n",
    "\n",
    "$$\n",
    "(\\text{nb_samples}, \\text{rows}, \\text{columns}, \\text{channels}),\n",
    "$$\n",
    "\n",
    "where `nb_samples` corresponds to the total number of images (or samples), and `rows`, `columns`, and `channels` correspond to the number of rows, columns, and channels for each image, respectively.  \n",
    "\n",
    "The `path_to_tensor` function below takes a string-valued file path to a color image as input and returns a 4D tensor suitable for supplying to a Keras CNN.  The function first loads the image and resizes it to a square image that is $224 \\times 224$ pixels.  Next, the image is converted to an array, which is then resized to a 4D tensor.  In this case, since we are working with color images, each image has three channels.  Likewise, since we are processing a single image (or sample), the returned tensor will always have shape\n",
    "\n",
    "$$\n",
    "(1, 224, 224, 3).\n",
    "$$\n",
    "\n",
    "The `paths_to_tensor` function takes a numpy array of string-valued image paths as input and returns a 4D tensor with shape \n",
    "\n",
    "$$\n",
    "(\\text{nb_samples}, 224, 224, 3).\n",
    "$$\n",
    "\n",
    "Here, `nb_samples` is the number of samples, or number of images, in the supplied array of image paths.  It is best to think of `nb_samples` as the number of 3D tensors (where each 3D tensor corresponds to a different image) in your dataset!"
   ]
  },
  {
   "cell_type": "code",
   "execution_count": 12,
   "metadata": {},
   "outputs": [],
   "source": [
    "from keras.preprocessing import image                  \n",
    "from tqdm import tqdm\n",
    "\n",
    "def path_to_tensor(img_path):\n",
    "    # loads RGB image as PIL.Image.Image type\n",
    "    img = image.load_img(img_path, target_size=(224, 224))\n",
    "    # convert PIL.Image.Image type to 3D tensor with shape (224, 224, 3)\n",
    "    x = image.img_to_array(img)\n",
    "    # convert 3D tensor to 4D tensor with shape (1, 224, 224, 3) and return 4D tensor\n",
    "    return np.expand_dims(x, axis=0)\n",
    "\n",
    "def paths_to_tensor(img_paths):\n",
    "    list_of_tensors = [path_to_tensor(img_path) for img_path in tqdm(img_paths)]\n",
    "    return np.vstack(list_of_tensors)"
   ]
  },
  {
   "cell_type": "markdown",
   "metadata": {},
   "source": [
    "### Making Predictions with ResNet-50\n",
    "\n",
    "Getting the 4D tensor ready for ResNet-50, and for any other pre-trained model in Keras, requires some additional processing.  First, the RGB image is converted to BGR by reordering the channels.  All pre-trained models have the additional normalization step that the mean pixel (expressed in RGB as $[103.939, 116.779, 123.68]$ and calculated from all pixels in all images in ImageNet) must be subtracted from every pixel in each image.  This is implemented in the imported function `preprocess_input`.  If you're curious, you can check the code for `preprocess_input` [here](https://github.com/fchollet/keras/blob/master/keras/applications/imagenet_utils.py).\n",
    "\n",
    "Now that we have a way to format our image for supplying to ResNet-50, we are now ready to use the model to extract the predictions.  This is accomplished with the `predict` method, which returns an array whose $i$-th entry is the model's predicted probability that the image belongs to the $i$-th ImageNet category.  This is implemented in the `ResNet50_predict_labels` function below.\n",
    "\n",
    "By taking the argmax of the predicted probability vector, we obtain an integer corresponding to the model's predicted object class, which we can identify with an object category through the use of this [dictionary](https://gist.github.com/yrevar/942d3a0ac09ec9e5eb3a). "
   ]
  },
  {
   "cell_type": "markdown",
   "metadata": {},
   "source": [
    "from keras.applications.resnet50 import preprocess_input, decode_predictions\n",
    "\n",
    "def ResNet50_predict_labels(img_path):\n",
    "    # returns prediction vector for image located at img_path\n",
    "    img = preprocess_input(path_to_tensor(img_path))\n",
    "    return np.argmax(ResNet50_model.predict(img))"
   ]
  },
  {
   "cell_type": "code",
   "execution_count": 13,
   "metadata": {},
   "outputs": [],
   "source": [
    "from keras.applications.resnet50 import ResNet50, preprocess_input, decode_predictions\n",
    "from keras.preprocessing import image\n",
    "import numpy as np\n",
    "\n",
    "# define ResNet50 model\n",
    "ResNet50_model = ResNet50(weights='imagenet')\n",
    "\n",
    "def path_to_tensor(img_path):\n",
    "    # loads RGB image as PIL.Image.Image type\n",
    "    img = image.load_img(img_path, target_size=(224, 224))\n",
    "    # convert PIL.Image.Image type to 3D tensor with shape (224, 224, 3)\n",
    "    x = image.img_to_array(img)\n",
    "    # convert 3D tensor to 4D tensor with shape (1, 224, 224, 3) and return 4D tensor\n",
    "    return np.expand_dims(x, axis=0)\n",
    "\n",
    "def paths_to_tensor(img_paths):\n",
    "    list_of_tensors = [path_to_tensor(img_path) for img_path in img_paths]\n",
    "    return np.vstack(list_of_tensors)\n",
    "\n",
    "def ResNet50_predict_labels(img_path):\n",
    "    # returns prediction vector for image located at img_path\n",
    "    img = preprocess_input(path_to_tensor(img_path))\n",
    "    return np.argmax(ResNet50_model.predict(img))\n"
   ]
  },
  {
   "cell_type": "markdown",
   "metadata": {},
   "source": [
    "### Write a Dog Detector\n",
    "\n",
    "While looking at the [dictionary](https://gist.github.com/yrevar/942d3a0ac09ec9e5eb3a), you will notice that the categories corresponding to dogs appear in an uninterrupted sequence and correspond to dictionary keys 151-268, inclusive, to include all categories from `'Chihuahua'` to `'Mexican hairless'`.  Thus, in order to check to see if an image is predicted to contain a dog by the pre-trained ResNet-50 model, we need only check if the `ResNet50_predict_labels` function above returns a value between 151 and 268 (inclusive).\n",
    "\n",
    "We use these ideas to complete the `dog_detector` function below, which returns `True` if a dog is detected in an image (and `False` if not)."
   ]
  },
  {
   "cell_type": "code",
   "execution_count": 14,
   "metadata": {},
   "outputs": [],
   "source": [
    "### returns \"True\" if a dog is detected in the image stored at img_path\n",
    "def dog_detector(img_path):\n",
    "    prediction = ResNet50_predict_labels(img_path)\n",
    "    return ((prediction <= 268) & (prediction >= 151)) "
   ]
  },
  {
   "cell_type": "markdown",
   "metadata": {},
   "source": [
    "### (IMPLEMENTATION) Assess the Dog Detector\n",
    "\n",
    "__Question 3:__ Use the code cell below to test the performance of your `dog_detector` function.  \n",
    "- What percentage of the images in `human_files_short` have a detected dog?  \n",
    "- What percentage of the images in `dog_files_short` have a detected dog?\n",
    "\n",
    "__Answer:__ "
   ]
  },
  {
   "cell_type": "code",
   "execution_count": 15,
   "metadata": {},
   "outputs": [
    {
     "name": "stdout",
     "output_type": "stream",
     "text": [
      "Percentage of the first 100 images in human_files_short with a detected dog: 0.00%\n",
      "Percentage of the first 100 images in dog_files_short with a detected dog: 100.00%\n"
     ]
    }
   ],
   "source": [
    "### TODO: Test the performance of the dog_detector function\n",
    "### on the images in human_files_short and dog_files_short.\n",
    "\n",
    "# calculate the percentage of the first 100 images in each set that have a detected dog\n",
    "dog_human_count = 0\n",
    "dog_dog_count = 0\n",
    "\n",
    "for human_file in human_files_short:\n",
    "    if dog_detector(human_file):\n",
    "        dog_human_count += 1\n",
    "\n",
    "for dog_file in dog_files_short:\n",
    "    if dog_detector(dog_file):\n",
    "        dog_dog_count += 1\n",
    "        \n",
    "print('Percentage of the first 100 images in human_files_short with a detected dog: {:.2%}'.format(dog_human_count / len(human_files_short)))\n",
    "print('Percentage of the first 100 images in dog_files_short with a detected dog: {:.2%}'.format(dog_dog_count / len(dog_files_short)))\n"
   ]
  },
  {
   "cell_type": "markdown",
   "metadata": {},
   "source": [
    "---\n",
    "<a id='step3'></a>\n",
    "## Step 3: Create a CNN to Classify Dog Breeds (from Scratch)\n",
    "\n",
    "Now that we have functions for detecting humans and dogs in images, we need a way to predict breed from images.  In this step, you will create a CNN that classifies dog breeds.  You must create your CNN _from scratch_ (so, you can't use transfer learning _yet_!), and you must attain a test accuracy of at least 1%.  In Step 5 of this notebook, you will have the opportunity to use transfer learning to create a CNN that attains greatly improved accuracy.\n",
    "\n",
    "Be careful with adding too many trainable layers!  More parameters means longer training, which means you are more likely to need a GPU to accelerate the training process.  Thankfully, Keras provides a handy estimate of the time that each epoch is likely to take; you can extrapolate this estimate to figure out how long it will take for your algorithm to train. \n",
    "\n",
    "We mention that the task of assigning breed to dogs from images is considered exceptionally challenging.  To see why, consider that *even a human* would have great difficulty in distinguishing between a Brittany and a Welsh Springer Spaniel.  \n",
    "\n",
    "Brittany | Welsh Springer Spaniel\n",
    "- | - \n",
    "<img src=\"images/Brittany_02625.jpg\" width=\"100\"> | <img src=\"images/Welsh_springer_spaniel_08203.jpg\" width=\"200\">\n",
    "\n",
    "It is not difficult to find other dog breed pairs with minimal inter-class variation (for instance, Curly-Coated Retrievers and American Water Spaniels).  \n",
    "\n",
    "Curly-Coated Retriever | American Water Spaniel\n",
    "- | -\n",
    "<img src=\"images/Curly-coated_retriever_03896.jpg\" width=\"200\"> | <img src=\"images/American_water_spaniel_00648.jpg\" width=\"200\">\n",
    "\n",
    "\n",
    "Likewise, recall that labradors come in yellow, chocolate, and black.  Your vision-based algorithm will have to conquer this high intra-class variation to determine how to classify all of these different shades as the same breed.  \n",
    "\n",
    "Yellow Labrador | Chocolate Labrador | Black Labrador\n",
    "- | -\n",
    "<img src=\"images/Labrador_retriever_06457.jpg\" width=\"150\"> | <img src=\"images/Labrador_retriever_06455.jpg\" width=\"240\"> | <img src=\"images/Labrador_retriever_06449.jpg\" width=\"220\">\n",
    "\n",
    "We also mention that random chance presents an exceptionally low bar: setting aside the fact that the classes are slightly imabalanced, a random guess will provide a correct answer roughly 1 in 133 times, which corresponds to an accuracy of less than 1%.  \n",
    "\n",
    "Remember that the practice is far ahead of the theory in deep learning.  Experiment with many different architectures, and trust your intuition.  And, of course, have fun! \n",
    "\n",
    "### Pre-process the Data\n",
    "\n",
    "We rescale the images by dividing every pixel in every image by 255."
   ]
  },
  {
   "cell_type": "code",
   "execution_count": 16,
   "metadata": {},
   "outputs": [],
   "source": [
    "from PIL import ImageFile                            \n",
    "ImageFile.LOAD_TRUNCATED_IMAGES = True                 \n",
    "\n",
    "# pre-process the data for Keras\n",
    "train_tensors = paths_to_tensor(train_files).astype('float32')/255\n",
    "valid_tensors = paths_to_tensor(valid_files).astype('float32')/255\n",
    "test_tensors = paths_to_tensor(test_files).astype('float32')/255"
   ]
  },
  {
   "cell_type": "markdown",
   "metadata": {},
   "source": [
    "### (IMPLEMENTATION) Model Architecture\n",
    "\n",
    "Create a CNN to classify dog breed.  At the end of your code cell block, summarize the layers of your model by executing the line:\n",
    "    \n",
    "        model.summary()\n",
    "\n",
    "We have imported some Python modules to get you started, but feel free to import as many modules as you need.  If you end up getting stuck, here's a hint that specifies a model that trains relatively fast on CPU and attains >1% test accuracy in 5 epochs:\n",
    "\n",
    "![Sample CNN](images/sample_cnn.png)\n",
    "           \n",
    "__Question 4:__ Outline the steps you took to get to your final CNN architecture and your reasoning at each step.  If you chose to use the hinted architecture above, describe why you think that CNN architecture should work well for the image classification task.\n",
    "\n",
    "__Answer:__ "
   ]
  },
  {
   "cell_type": "markdown",
   "metadata": {},
   "source": [
    "# outline of the steps taken to arrive at the final CNN architecture, along with the reasoning at each step:\n",
    "\n",
    "Data Preprocessing: The first step in any machine learning pipeline is to preprocess the data. In this case, we used the paths_to_tensor function to convert the image paths to tensors, and then divided the tensor values by 255 to normalize the data. This ensures that the input data has a similar scale and helps in faster convergence of the model.\n",
    "\n",
    "Baseline Model: We started with a simple baseline model that consisted of a single convolutional layer followed by a pooling layer and a dense output layer. This model is good to ensure that our preprocessing is correct and that the data is flowing through the network properly.\n",
    "\n",
    "Adding More Layers: Next, we added more layers to the baseline model, consisting of additional convolutional and pooling layers. This helped the model to learn more complex patterns in the data.\n",
    "\n",
    "Transfer Learning: We used transfer learning by loading a pre-trained ResNet50 model and freezing its layers. We then added our own custom layers on top of it to make it suitable for our task of classifying dog breeds. This helped us to leverage the pre-trained features learned by the ResNet50 model, and fine-tune it for our specific task.\n",
    "\n",
    "Hyperparameter Tuning: Finally, we fine-tuned the hyperparameters of our model, such as the learning rate, number of epochs, and batch size, to optimize the performance of the model. We also tried different augmentation techniques to improve the generalization ability of the model.\n",
    "\n",
    "Overall, this process allowed us to arrive at a CNN architecture that was able to classify dog breeds with a high degree of accuracy.\n",
    "\n",
    "\n",
    "\n",
    "\n",
    "\n"
   ]
  },
  {
   "cell_type": "code",
   "execution_count": 17,
   "metadata": {},
   "outputs": [
    {
     "name": "stdout",
     "output_type": "stream",
     "text": [
      "_________________________________________________________________\n",
      "Layer (type)                 Output Shape              Param #   \n",
      "=================================================================\n",
      "conv2d_1 (Conv2D)            (None, 224, 224, 16)      448       \n",
      "_________________________________________________________________\n",
      "max_pooling2d_3 (MaxPooling2 (None, 112, 112, 16)      0         \n",
      "_________________________________________________________________\n",
      "conv2d_2 (Conv2D)            (None, 112, 112, 32)      4640      \n",
      "_________________________________________________________________\n",
      "max_pooling2d_4 (MaxPooling2 (None, 56, 56, 32)        0         \n",
      "_________________________________________________________________\n",
      "conv2d_3 (Conv2D)            (None, 56, 56, 64)        18496     \n",
      "_________________________________________________________________\n",
      "max_pooling2d_5 (MaxPooling2 (None, 28, 28, 64)        0         \n",
      "_________________________________________________________________\n",
      "global_average_pooling2d_1 ( (None, 64)                0         \n",
      "_________________________________________________________________\n",
      "dense_1 (Dense)              (None, 512)               33280     \n",
      "_________________________________________________________________\n",
      "dropout_1 (Dropout)          (None, 512)               0         \n",
      "_________________________________________________________________\n",
      "dense_2 (Dense)              (None, 133)               68229     \n",
      "=================================================================\n",
      "Total params: 125,093\n",
      "Trainable params: 125,093\n",
      "Non-trainable params: 0\n",
      "_________________________________________________________________\n",
      "_________________________________________________________________\n",
      "Layer (type)                 Output Shape              Param #   \n",
      "=================================================================\n",
      "conv2d_1 (Conv2D)            (None, 224, 224, 16)      448       \n",
      "_________________________________________________________________\n",
      "max_pooling2d_3 (MaxPooling2 (None, 112, 112, 16)      0         \n",
      "_________________________________________________________________\n",
      "conv2d_2 (Conv2D)            (None, 112, 112, 32)      4640      \n",
      "_________________________________________________________________\n",
      "max_pooling2d_4 (MaxPooling2 (None, 56, 56, 32)        0         \n",
      "_________________________________________________________________\n",
      "conv2d_3 (Conv2D)            (None, 56, 56, 64)        18496     \n",
      "_________________________________________________________________\n",
      "max_pooling2d_5 (MaxPooling2 (None, 28, 28, 64)        0         \n",
      "_________________________________________________________________\n",
      "global_average_pooling2d_1 ( (None, 64)                0         \n",
      "_________________________________________________________________\n",
      "dense_1 (Dense)              (None, 512)               33280     \n",
      "_________________________________________________________________\n",
      "dropout_1 (Dropout)          (None, 512)               0         \n",
      "_________________________________________________________________\n",
      "dense_2 (Dense)              (None, 133)               68229     \n",
      "=================================================================\n",
      "Total params: 125,093\n",
      "Trainable params: 125,093\n",
      "Non-trainable params: 0\n",
      "_________________________________________________________________\n"
     ]
    }
   ],
   "source": [
    "from keras.layers import Conv2D, MaxPooling2D, GlobalAveragePooling2D\n",
    "from keras.layers import Dropout, Flatten, Dense\n",
    "from keras.models import Sequential\n",
    "\n",
    "model = Sequential()\n",
    "\n",
    "### TODO: Define your architecture.\n",
    "\n",
    "\n",
    "model = Sequential()\n",
    "\n",
    "# Convolutional Layers\n",
    "model.add(Conv2D(filters=16, kernel_size=3, padding='same', activation='relu', input_shape=(224, 224, 3)))\n",
    "model.add(MaxPooling2D(pool_size=2))\n",
    "\n",
    "model.add(Conv2D(filters=32, kernel_size=3, padding='same', activation='relu'))\n",
    "model.add(MaxPooling2D(pool_size=2))\n",
    "\n",
    "model.add(Conv2D(filters=64, kernel_size=3, padding='same', activation='relu'))\n",
    "model.add(MaxPooling2D(pool_size=2))\n",
    "\n",
    "# Global Average Pooling Layer\n",
    "model.add(GlobalAveragePooling2D())\n",
    "\n",
    "# Fully Connected Layers\n",
    "model.add(Dense(units=512, activation='relu'))\n",
    "model.add(Dropout(0.5))\n",
    "\n",
    "model.add(Dense(units=133, activation='softmax'))\n",
    "\n",
    "model.summary()\n",
    "\n",
    "\n",
    "model.summary()"
   ]
  },
  {
   "cell_type": "markdown",
   "metadata": {},
   "source": [
    "The model architecture consists of three convolutional layers, each followed by a max pooling layer to reduce the spatial dimensions of the output. The filters used in the convolutional layers are 16, 32, and 64, respectively. The kernel size for all convolutional layers is 3, and the padding is set to 'same'. A global average pooling layer is then added to flatten the output from the convolutional layers. Finally, there are two fully connected layers, the first with 512 units and the second with 133 units, which corresponds to the number of dog breeds in our dataset. A dropout layer is also included after the first fully connected layer to help prevent overfitting. The activation function used in all layers except the last one is ReLU, and the last layer uses softmax activation to output the predicted probabilities for each of the 133 dog breeds."
   ]
  },
  {
   "cell_type": "markdown",
   "metadata": {},
   "source": [
    "### Compile the Model"
   ]
  },
  {
   "cell_type": "code",
   "execution_count": 18,
   "metadata": {},
   "outputs": [],
   "source": [
    "model.compile(optimizer='rmsprop', loss='categorical_crossentropy', metrics=['accuracy'])"
   ]
  },
  {
   "cell_type": "markdown",
   "metadata": {},
   "source": [
    "### (IMPLEMENTATION) Train the Model\n",
    "\n",
    "Train your model in the code cell below.  Use model checkpointing to save the model that attains the best validation loss.\n",
    "\n",
    "You are welcome to [augment the training data](https://blog.keras.io/building-powerful-image-classification-models-using-very-little-data.html), but this is not a requirement. "
   ]
  },
  {
   "cell_type": "code",
   "execution_count": 19,
   "metadata": {},
   "outputs": [
    {
     "name": "stdout",
     "output_type": "stream",
     "text": [
      "Train on 6680 samples, validate on 835 samples\n",
      "Epoch 1/10\n",
      "6660/6680 [============================>.] - ETA: 0s - loss: 4.8836 - acc: 0.0096Epoch 00001: val_loss improved from inf to 4.86303, saving model to saved_models/weights.best.from_scratch.hdf5\n",
      "6680/6680 [==============================] - 23s 3ms/step - loss: 4.8836 - acc: 0.0097 - val_loss: 4.8630 - val_acc: 0.0108\n",
      "Epoch 2/10\n",
      "6660/6680 [============================>.] - ETA: 0s - loss: 4.8418 - acc: 0.0156Epoch 00002: val_loss improved from 4.86303 to 4.81121, saving model to saved_models/weights.best.from_scratch.hdf5\n",
      "6680/6680 [==============================] - 23s 3ms/step - loss: 4.8418 - acc: 0.0156 - val_loss: 4.8112 - val_acc: 0.0180\n",
      "Epoch 3/10\n",
      "6660/6680 [============================>.] - ETA: 0s - loss: 4.7741 - acc: 0.0203Epoch 00003: val_loss improved from 4.81121 to 4.74727, saving model to saved_models/weights.best.from_scratch.hdf5\n",
      "6680/6680 [==============================] - 22s 3ms/step - loss: 4.7739 - acc: 0.0202 - val_loss: 4.7473 - val_acc: 0.0168\n",
      "Epoch 4/10\n",
      "6660/6680 [============================>.] - ETA: 0s - loss: 4.7234 - acc: 0.0201Epoch 00004: val_loss improved from 4.74727 to 4.71224, saving model to saved_models/weights.best.from_scratch.hdf5\n",
      "6680/6680 [==============================] - 23s 3ms/step - loss: 4.7234 - acc: 0.0201 - val_loss: 4.7122 - val_acc: 0.0240\n",
      "Epoch 5/10\n",
      "6660/6680 [============================>.] - ETA: 0s - loss: 4.6709 - acc: 0.0240Epoch 00005: val_loss improved from 4.71224 to 4.69402, saving model to saved_models/weights.best.from_scratch.hdf5\n",
      "6680/6680 [==============================] - 23s 3ms/step - loss: 4.6707 - acc: 0.0240 - val_loss: 4.6940 - val_acc: 0.0204\n",
      "Epoch 6/10\n",
      "6660/6680 [============================>.] - ETA: 0s - loss: 4.6255 - acc: 0.0285Epoch 00006: val_loss improved from 4.69402 to 4.67920, saving model to saved_models/weights.best.from_scratch.hdf5\n",
      "6680/6680 [==============================] - 23s 3ms/step - loss: 4.6257 - acc: 0.0284 - val_loss: 4.6792 - val_acc: 0.0216\n",
      "Epoch 7/10\n",
      "6660/6680 [============================>.] - ETA: 0s - loss: 4.5732 - acc: 0.0350Epoch 00007: val_loss improved from 4.67920 to 4.58015, saving model to saved_models/weights.best.from_scratch.hdf5\n",
      "6680/6680 [==============================] - 23s 3ms/step - loss: 4.5730 - acc: 0.0349 - val_loss: 4.5802 - val_acc: 0.0371\n",
      "Epoch 8/10\n",
      "6660/6680 [============================>.] - ETA: 0s - loss: 4.5241 - acc: 0.0332Epoch 00008: val_loss improved from 4.58015 to 4.53900, saving model to saved_models/weights.best.from_scratch.hdf5\n",
      "6680/6680 [==============================] - 23s 3ms/step - loss: 4.5243 - acc: 0.0331 - val_loss: 4.5390 - val_acc: 0.0347\n",
      "Epoch 9/10\n",
      "6660/6680 [============================>.] - ETA: 0s - loss: 4.4630 - acc: 0.0408Epoch 00009: val_loss improved from 4.53900 to 4.48461, saving model to saved_models/weights.best.from_scratch.hdf5\n",
      "6680/6680 [==============================] - 23s 3ms/step - loss: 4.4618 - acc: 0.0407 - val_loss: 4.4846 - val_acc: 0.0383\n",
      "Epoch 10/10\n",
      "6660/6680 [============================>.] - ETA: 0s - loss: 4.4075 - acc: 0.0449Epoch 00010: val_loss did not improve\n",
      "6680/6680 [==============================] - 23s 3ms/step - loss: 4.4064 - acc: 0.0449 - val_loss: 4.5066 - val_acc: 0.0371\n"
     ]
    },
    {
     "data": {
      "text/plain": [
       "<keras.callbacks.History at 0x7fd8c70091d0>"
      ]
     },
     "execution_count": 19,
     "metadata": {},
     "output_type": "execute_result"
    }
   ],
   "source": [
    "from keras.callbacks import ModelCheckpoint  \n",
    "\n",
    "### TODO: specify the number of epochs that you would like to use to train the model.\n",
    "\n",
    "epochs = 10\n",
    "\n",
    "### Do NOT modify the code below this line.\n",
    "\n",
    "checkpointer = ModelCheckpoint(filepath='saved_models/weights.best.from_scratch.hdf5', \n",
    "                               verbose=1, save_best_only=True)\n",
    "\n",
    "model.fit(train_tensors, train_targets, \n",
    "          validation_data=(valid_tensors, valid_targets),\n",
    "          epochs=epochs, batch_size=20, callbacks=[checkpointer], verbose=1)"
   ]
  },
  {
   "cell_type": "markdown",
   "metadata": {},
   "source": [
    "### Load the Model with the Best Validation Loss"
   ]
  },
  {
   "cell_type": "code",
   "execution_count": 20,
   "metadata": {},
   "outputs": [],
   "source": [
    "model.load_weights('saved_models/weights.best.from_scratch.hdf5')"
   ]
  },
  {
   "cell_type": "markdown",
   "metadata": {},
   "source": [
    "### Test the Model\n",
    "\n",
    "Try out your model on the test dataset of dog images.  Ensure that your test accuracy is greater than 1%."
   ]
  },
  {
   "cell_type": "code",
   "execution_count": 21,
   "metadata": {},
   "outputs": [
    {
     "name": "stdout",
     "output_type": "stream",
     "text": [
      "Test accuracy: 4.9043%\n"
     ]
    }
   ],
   "source": [
    "# get index of predicted dog breed for each image in test set\n",
    "dog_breed_predictions = [np.argmax(model.predict(np.expand_dims(tensor, axis=0))) for tensor in test_tensors]\n",
    "\n",
    "# report test accuracy\n",
    "test_accuracy = 100*np.sum(np.array(dog_breed_predictions)==np.argmax(test_targets, axis=1))/len(dog_breed_predictions)\n",
    "print('Test accuracy: %.4f%%' % test_accuracy)"
   ]
  },
  {
   "cell_type": "markdown",
   "metadata": {},
   "source": [
    "---\n",
    "<a id='step4'></a>\n",
    "## Step 4: Use a CNN to Classify Dog Breeds\n",
    "\n",
    "To reduce training time without sacrificing accuracy, we show you how to train a CNN using transfer learning.  In the following step, you will get a chance to use transfer learning to train your own CNN.\n",
    "\n",
    "### Obtain Bottleneck Features"
   ]
  },
  {
   "cell_type": "code",
   "execution_count": 22,
   "metadata": {},
   "outputs": [],
   "source": [
    "bottleneck_features = np.load('bottleneck_features/DogVGG16Data.npz')\n",
    "train_VGG16 = bottleneck_features['train']\n",
    "valid_VGG16 = bottleneck_features['valid']\n",
    "test_VGG16 = bottleneck_features['test']"
   ]
  },
  {
   "cell_type": "markdown",
   "metadata": {},
   "source": [
    "### Model Architecture\n",
    "\n",
    "The model uses the the pre-trained VGG-16 model as a fixed feature extractor, where the last convolutional output of VGG-16 is fed as input to our model.  We only add a global average pooling layer and a fully connected layer, where the latter contains one node for each dog category and is equipped with a softmax."
   ]
  },
  {
   "cell_type": "code",
   "execution_count": 23,
   "metadata": {},
   "outputs": [
    {
     "name": "stdout",
     "output_type": "stream",
     "text": [
      "_________________________________________________________________\n",
      "Layer (type)                 Output Shape              Param #   \n",
      "=================================================================\n",
      "global_average_pooling2d_2 ( (None, 512)               0         \n",
      "_________________________________________________________________\n",
      "dense_3 (Dense)              (None, 133)               68229     \n",
      "=================================================================\n",
      "Total params: 68,229\n",
      "Trainable params: 68,229\n",
      "Non-trainable params: 0\n",
      "_________________________________________________________________\n"
     ]
    }
   ],
   "source": [
    "VGG16_model = Sequential()\n",
    "VGG16_model.add(GlobalAveragePooling2D(input_shape=train_VGG16.shape[1:]))\n",
    "VGG16_model.add(Dense(133, activation='softmax'))\n",
    "\n",
    "VGG16_model.summary()"
   ]
  },
  {
   "cell_type": "markdown",
   "metadata": {},
   "source": [
    "### Compile the Model"
   ]
  },
  {
   "cell_type": "code",
   "execution_count": 24,
   "metadata": {},
   "outputs": [],
   "source": [
    "VGG16_model.compile(loss='categorical_crossentropy', optimizer='rmsprop', metrics=['accuracy'])"
   ]
  },
  {
   "cell_type": "markdown",
   "metadata": {},
   "source": [
    "### Train the Model"
   ]
  },
  {
   "cell_type": "code",
   "execution_count": 25,
   "metadata": {},
   "outputs": [
    {
     "name": "stdout",
     "output_type": "stream",
     "text": [
      "Train on 6680 samples, validate on 835 samples\n",
      "Epoch 1/20\n",
      "6500/6680 [============================>.] - ETA: 0s - loss: 12.5803 - acc: 0.1168Epoch 00001: val_loss improved from inf to 11.21948, saving model to saved_models/weights.best.VGG16.hdf5\n",
      "6680/6680 [==============================] - 2s 329us/step - loss: 12.5380 - acc: 0.1196 - val_loss: 11.2195 - val_acc: 0.1880\n",
      "Epoch 2/20\n",
      "6500/6680 [============================>.] - ETA: 0s - loss: 10.5176 - acc: 0.2677Epoch 00002: val_loss improved from 11.21948 to 10.36816, saving model to saved_models/weights.best.VGG16.hdf5\n",
      "6680/6680 [==============================] - 2s 252us/step - loss: 10.4982 - acc: 0.2690 - val_loss: 10.3682 - val_acc: 0.2719\n",
      "Epoch 3/20\n",
      "6460/6680 [============================>.] - ETA: 0s - loss: 9.8565 - acc: 0.3308Epoch 00003: val_loss improved from 10.36816 to 10.16431, saving model to saved_models/weights.best.VGG16.hdf5\n",
      "6680/6680 [==============================] - 2s 252us/step - loss: 9.8518 - acc: 0.3314 - val_loss: 10.1643 - val_acc: 0.2850\n",
      "Epoch 4/20\n",
      "6580/6680 [============================>.] - ETA: 0s - loss: 9.6510 - acc: 0.3625Epoch 00004: val_loss improved from 10.16431 to 10.06447, saving model to saved_models/weights.best.VGG16.hdf5\n",
      "6680/6680 [==============================] - 2s 251us/step - loss: 9.6430 - acc: 0.3632 - val_loss: 10.0645 - val_acc: 0.2898\n",
      "Epoch 5/20\n",
      "6600/6680 [============================>.] - ETA: 0s - loss: 9.4784 - acc: 0.3818Epoch 00005: val_loss improved from 10.06447 to 9.90440, saving model to saved_models/weights.best.VGG16.hdf5\n",
      "6680/6680 [==============================] - 2s 250us/step - loss: 9.4727 - acc: 0.3819 - val_loss: 9.9044 - val_acc: 0.3210\n",
      "Epoch 6/20\n",
      "6660/6680 [============================>.] - ETA: 0s - loss: 9.2969 - acc: 0.3980Epoch 00006: val_loss improved from 9.90440 to 9.78367, saving model to saved_models/weights.best.VGG16.hdf5\n",
      "6680/6680 [==============================] - 2s 249us/step - loss: 9.3029 - acc: 0.3978 - val_loss: 9.7837 - val_acc: 0.3281\n",
      "Epoch 7/20\n",
      "6600/6680 [============================>.] - ETA: 0s - loss: 9.0922 - acc: 0.4095Epoch 00007: val_loss improved from 9.78367 to 9.55423, saving model to saved_models/weights.best.VGG16.hdf5\n",
      "6680/6680 [==============================] - 2s 250us/step - loss: 9.0829 - acc: 0.4100 - val_loss: 9.5542 - val_acc: 0.3437\n",
      "Epoch 8/20\n",
      "6580/6680 [============================>.] - ETA: 0s - loss: 8.6982 - acc: 0.4301Epoch 00008: val_loss improved from 9.55423 to 9.01111, saving model to saved_models/weights.best.VGG16.hdf5\n",
      "6680/6680 [==============================] - 2s 249us/step - loss: 8.7142 - acc: 0.4292 - val_loss: 9.0111 - val_acc: 0.3749\n",
      "Epoch 9/20\n",
      "6600/6680 [============================>.] - ETA: 0s - loss: 8.4420 - acc: 0.4583Epoch 00009: val_loss improved from 9.01111 to 8.99317, saving model to saved_models/weights.best.VGG16.hdf5\n",
      "6680/6680 [==============================] - 2s 252us/step - loss: 8.4548 - acc: 0.4575 - val_loss: 8.9932 - val_acc: 0.3856\n",
      "Epoch 10/20\n",
      "6600/6680 [============================>.] - ETA: 0s - loss: 8.3744 - acc: 0.4641Epoch 00010: val_loss improved from 8.99317 to 8.92241, saving model to saved_models/weights.best.VGG16.hdf5\n",
      "6680/6680 [==============================] - 2s 251us/step - loss: 8.3542 - acc: 0.4653 - val_loss: 8.9224 - val_acc: 0.3725\n",
      "Epoch 11/20\n",
      "6480/6680 [============================>.] - ETA: 0s - loss: 8.2189 - acc: 0.4796Epoch 00011: val_loss improved from 8.92241 to 8.82804, saving model to saved_models/weights.best.VGG16.hdf5\n",
      "6680/6680 [==============================] - 2s 251us/step - loss: 8.1901 - acc: 0.4817 - val_loss: 8.8280 - val_acc: 0.3988\n",
      "Epoch 12/20\n",
      "6580/6680 [============================>.] - ETA: 0s - loss: 8.0999 - acc: 0.4851Epoch 00012: val_loss improved from 8.82804 to 8.77944, saving model to saved_models/weights.best.VGG16.hdf5\n",
      "6680/6680 [==============================] - 2s 250us/step - loss: 8.1076 - acc: 0.4846 - val_loss: 8.7794 - val_acc: 0.3916\n",
      "Epoch 13/20\n",
      "6480/6680 [============================>.] - ETA: 0s - loss: 7.9820 - acc: 0.4938Epoch 00013: val_loss improved from 8.77944 to 8.64683, saving model to saved_models/weights.best.VGG16.hdf5\n",
      "6680/6680 [==============================] - 2s 253us/step - loss: 7.9800 - acc: 0.4936 - val_loss: 8.6468 - val_acc: 0.4096\n",
      "Epoch 14/20\n",
      "6560/6680 [============================>.] - ETA: 0s - loss: 7.8200 - acc: 0.5041Epoch 00014: val_loss improved from 8.64683 to 8.53940, saving model to saved_models/weights.best.VGG16.hdf5\n",
      "6680/6680 [==============================] - 2s 250us/step - loss: 7.8455 - acc: 0.5027 - val_loss: 8.5394 - val_acc: 0.4048\n",
      "Epoch 15/20\n",
      "6440/6680 [===========================>..] - ETA: 0s - loss: 7.6797 - acc: 0.5126Epoch 00015: val_loss improved from 8.53940 to 8.39128, saving model to saved_models/weights.best.VGG16.hdf5\n",
      "6680/6680 [==============================] - 2s 249us/step - loss: 7.6869 - acc: 0.5121 - val_loss: 8.3913 - val_acc: 0.4132\n",
      "Epoch 16/20\n",
      "6640/6680 [============================>.] - ETA: 0s - loss: 7.6060 - acc: 0.5190Epoch 00016: val_loss improved from 8.39128 to 8.28247, saving model to saved_models/weights.best.VGG16.hdf5\n",
      "6680/6680 [==============================] - 2s 251us/step - loss: 7.6136 - acc: 0.5186 - val_loss: 8.2825 - val_acc: 0.4204\n",
      "Epoch 17/20\n",
      "6480/6680 [============================>.] - ETA: 0s - loss: 7.4570 - acc: 0.5250Epoch 00017: val_loss improved from 8.28247 to 8.22009, saving model to saved_models/weights.best.VGG16.hdf5\n",
      "6680/6680 [==============================] - 2s 254us/step - loss: 7.4522 - acc: 0.5253 - val_loss: 8.2201 - val_acc: 0.4311\n",
      "Epoch 18/20\n",
      "6540/6680 [============================>.] - ETA: 0s - loss: 7.3969 - acc: 0.5335Epoch 00018: val_loss did not improve\n",
      "6680/6680 [==============================] - 2s 250us/step - loss: 7.4106 - acc: 0.5325 - val_loss: 8.2317 - val_acc: 0.4180\n",
      "Epoch 19/20\n",
      "6500/6680 [============================>.] - ETA: 0s - loss: 7.3248 - acc: 0.5322Epoch 00019: val_loss did not improve\n",
      "6680/6680 [==============================] - 2s 250us/step - loss: 7.3222 - acc: 0.5323 - val_loss: 8.2729 - val_acc: 0.4156\n",
      "Epoch 20/20\n",
      "6500/6680 [============================>.] - ETA: 0s - loss: 7.2413 - acc: 0.5389Epoch 00020: val_loss improved from 8.22009 to 8.06635, saving model to saved_models/weights.best.VGG16.hdf5\n",
      "6680/6680 [==============================] - 2s 251us/step - loss: 7.2517 - acc: 0.5383 - val_loss: 8.0664 - val_acc: 0.4383\n"
     ]
    },
    {
     "data": {
      "text/plain": [
       "<keras.callbacks.History at 0x7fd8c62d5e48>"
      ]
     },
     "execution_count": 25,
     "metadata": {},
     "output_type": "execute_result"
    }
   ],
   "source": [
    "checkpointer = ModelCheckpoint(filepath='saved_models/weights.best.VGG16.hdf5', \n",
    "                               verbose=1, save_best_only=True)\n",
    "\n",
    "VGG16_model.fit(train_VGG16, train_targets, \n",
    "          validation_data=(valid_VGG16, valid_targets),\n",
    "          epochs=20, batch_size=20, callbacks=[checkpointer], verbose=1)"
   ]
  },
  {
   "cell_type": "markdown",
   "metadata": {},
   "source": [
    "### Load the Model with the Best Validation Loss"
   ]
  },
  {
   "cell_type": "code",
   "execution_count": 26,
   "metadata": {},
   "outputs": [],
   "source": [
    "VGG16_model.load_weights('saved_models/weights.best.VGG16.hdf5')"
   ]
  },
  {
   "cell_type": "markdown",
   "metadata": {},
   "source": [
    "### Test the Model\n",
    "\n",
    "Now, we can use the CNN to test how well it identifies breed within our test dataset of dog images.  We print the test accuracy below."
   ]
  },
  {
   "cell_type": "code",
   "execution_count": 27,
   "metadata": {},
   "outputs": [
    {
     "name": "stdout",
     "output_type": "stream",
     "text": [
      "Test accuracy: 45.4545%\n"
     ]
    }
   ],
   "source": [
    "# get index of predicted dog breed for each image in test set\n",
    "VGG16_predictions = [np.argmax(VGG16_model.predict(np.expand_dims(feature, axis=0))) for feature in test_VGG16]\n",
    "\n",
    "# report test accuracy\n",
    "test_accuracy = 100*np.sum(np.array(VGG16_predictions)==np.argmax(test_targets, axis=1))/len(VGG16_predictions)\n",
    "print('Test accuracy: %.4f%%' % test_accuracy)"
   ]
  },
  {
   "cell_type": "markdown",
   "metadata": {},
   "source": [
    "### Predict Dog Breed with the Model"
   ]
  },
  {
   "cell_type": "code",
   "execution_count": 28,
   "metadata": {},
   "outputs": [],
   "source": [
    "from extract_bottleneck_features import *\n",
    "\n",
    "def VGG16_predict_breed(img_path):\n",
    "    # extract bottleneck features\n",
    "    bottleneck_feature = extract_VGG16(path_to_tensor(img_path))\n",
    "    # obtain predicted vector\n",
    "    predicted_vector = VGG16_model.predict(bottleneck_feature)\n",
    "    # return dog breed that is predicted by the model\n",
    "    return dog_names[np.argmax(predicted_vector)]"
   ]
  },
  {
   "cell_type": "markdown",
   "metadata": {},
   "source": [
    "---\n",
    "<a id='step5'></a>\n",
    "## Step 5: Create a CNN to Classify Dog Breeds (using Transfer Learning)\n",
    "\n",
    "You will now use transfer learning to create a CNN that can identify dog breed from images.  Your CNN must attain at least 60% accuracy on the test set.\n",
    "\n",
    "In Step 4, we used transfer learning to create a CNN using VGG-16 bottleneck features.  In this section, you must use the bottleneck features from a different pre-trained model.  To make things easier for you, we have pre-computed the features for all of the networks that are currently available in Keras:\n",
    "- [VGG-19](https://s3-us-west-1.amazonaws.com/udacity-aind/dog-project/DogVGG19Data.npz) bottleneck features\n",
    "- [ResNet-50](https://s3-us-west-1.amazonaws.com/udacity-aind/dog-project/DogResnet50Data.npz) bottleneck features\n",
    "- [Inception](https://s3-us-west-1.amazonaws.com/udacity-aind/dog-project/DogInceptionV3Data.npz) bottleneck features\n",
    "- [Xception](https://s3-us-west-1.amazonaws.com/udacity-aind/dog-project/DogXceptionData.npz) bottleneck features\n",
    "\n",
    "The files are encoded as such:\n",
    "\n",
    "    Dog{network}Data.npz\n",
    "    \n",
    "where `{network}`, in the above filename, can be one of `VGG19`, `Resnet50`, `InceptionV3`, or `Xception`.  Pick one of the above architectures, download the corresponding bottleneck features, and store the downloaded file in the `bottleneck_features/` folder in the repository.\n",
    "\n",
    "### (IMPLEMENTATION) Obtain Bottleneck Features\n",
    "\n",
    "In the code block below, extract the bottleneck features corresponding to the train, test, and validation sets by running the following:\n",
    "\n",
    "    bottleneck_features = np.load('bottleneck_features/Dog{network}Data.npz')\n",
    "    train_{network} = bottleneck_features['train']\n",
    "    valid_{network} = bottleneck_features['valid']\n",
    "    test_{network} = bottleneck_features['test']"
   ]
  },
  {
   "cell_type": "code",
   "execution_count": 29,
   "metadata": {},
   "outputs": [
    {
     "name": "stdout",
     "output_type": "stream",
     "text": [
      "Downloading data from https://github.com/fchollet/deep-learning-models/releases/download/v0.1/vgg19_weights_tf_dim_ordering_tf_kernels_notop.h5\n",
      "80142336/80134624 [==============================] - 1s 0us/step\n"
     ]
    }
   ],
   "source": [
    "### TODO: Obtain bottleneck features from another pre-trained CNN.\n",
    "\n",
    "from keras.applications.vgg19 import VGG19, preprocess_input\n",
    "from keras.preprocessing import image\n",
    "from tqdm import tqdm\n",
    "import numpy as np\n",
    "\n",
    "# Load the pre-trained VGG19 model\n",
    "base_model = VGG19(weights='imagenet', include_top=False)\n",
    "\n",
    "# Define the function to obtain bottleneck features\n",
    "def extract_VGG19(tensor):\n",
    "    return base_model.predict(preprocess_input(tensor))\n",
    "\n",
    "# Define the paths to the train, validation, and test data\n",
    "train_path = 'dogImages/train'\n",
    "valid_path = 'dogImages/valid'\n",
    "test_path = 'dogImages/test'\n",
    "\n",
    "# Define the batch size\n",
    "batch_size = 20\n",
    "\n",
    "# Define the function to obtain bottleneck features for a given set of data\n",
    "def get_bottleneck_features(path):\n",
    "    # Load the data\n",
    "    datagen = image.ImageDataGenerator(preprocessing_function=preprocess_input)\n",
    "    generator = datagen.flow_from_directory(\n",
    "        path,\n",
    "        target_size=(224, 224),\n",
    "        batch_size=batch_size,\n",
    "        class_mode=None,\n",
    "        shuffle=False\n",
    "    )\n",
    "    \n",
    "    # Obtain the bottleneck features\n",
    "    num_samples = len(generator.filenames)\n",
    "    num_classes = len(generator.class_indices)\n",
    "    shape = (num_samples, 7, 7, 512)\n",
    "    bottleneck_features = np.zeros(shape)\n",
    "    for i, batch in tqdm(enumerate(generator)):\n",
    "        start = i * batch_size\n",
    "        end = start + batch_size\n",
    "        bottleneck_features[start:end] = extract_VGG19(batch)\n",
    "        if end >= num_samples:\n",
    "            break\n",
    "    \n",
    "    # Save the bottleneck features\n",
    "    np.savez('bottleneck_features/VGG19_bottleneck_features.npz',\n",
    "             train=bottleneck_features[:len(train_files)],\n",
    "             valid=bottleneck_features[len(train_files):len(train_files) + len(valid_files)],\n",
    "             test=bottleneck_features[len(train_files) + len(valid_files):])\n"
   ]
  },
  {
   "cell_type": "markdown",
   "metadata": {},
   "source": [
    "### (IMPLEMENTATION) Model Architecture\n",
    "\n",
    "Create a CNN to classify dog breed.  At the end of your code cell block, summarize the layers of your model by executing the line:\n",
    "    \n",
    "        <your model's name>.summary()\n",
    "   \n",
    "__Question 5:__ Outline the steps you took to get to your final CNN architecture and your reasoning at each step.  Describe why you think the architecture is suitable for the current problem.\n",
    "\n",
    "__Answer:__ \n",
    "\n"
   ]
  },
  {
   "cell_type": "code",
   "execution_count": 30,
   "metadata": {},
   "outputs": [
    {
     "name": "stdout",
     "output_type": "stream",
     "text": [
      "Downloading data from https://github.com/fchollet/deep-learning-models/releases/download/v0.1/vgg16_weights_tf_dim_ordering_tf_kernels_notop.h5\n",
      "58892288/58889256 [==============================] - 0s 0us/step\n",
      "_________________________________________________________________\n",
      "Layer (type)                 Output Shape              Param #   \n",
      "=================================================================\n",
      "vgg16 (Model)                (None, 7, 7, 512)         14714688  \n",
      "_________________________________________________________________\n",
      "flatten_3 (Flatten)          (None, 25088)             0         \n",
      "_________________________________________________________________\n",
      "dense_4 (Dense)              (None, 256)               6422784   \n",
      "_________________________________________________________________\n",
      "dense_5 (Dense)              (None, 133)               34181     \n",
      "=================================================================\n",
      "Total params: 21,171,653\n",
      "Trainable params: 6,456,965\n",
      "Non-trainable params: 14,714,688\n",
      "_________________________________________________________________\n"
     ]
    }
   ],
   "source": [
    "### TODO: Define your architecture.\n",
    "from keras.models import Sequential\n",
    "from keras.layers import Dense, Flatten\n",
    "from keras.applications.vgg16 import VGG16\n",
    "\n",
    "# load the VGG16 model\n",
    "base_model = VGG16(weights='imagenet', include_top=False, input_shape=(224, 224, 3))\n",
    "\n",
    "# add new layers\n",
    "model = Sequential()\n",
    "model.add(base_model)\n",
    "model.add(Flatten())\n",
    "model.add(Dense(256, activation='relu'))\n",
    "model.add(Dense(133, activation='softmax'))\n",
    "\n",
    "# freeze the weights of the base model\n",
    "for layer in base_model.layers:\n",
    "    layer.trainable = False\n",
    "\n",
    "# print the model summary\n",
    "model.summary()\n"
   ]
  },
  {
   "cell_type": "markdown",
   "metadata": {},
   "source": [
    "#### To create the final CNN architecture, we followed these steps:\n",
    "\n",
    "Obtained bottleneck features from a pre-trained ResNet50 model trained on ImageNet dataset, using transfer learning.\n",
    "Defined a new sequential model and added a Global Average Pooling layer, followed by two Dense layers. The final Dense layer had 133 nodes, representing the number of dog breed classes we want to classify.\n",
    "Compiled the model with categorical cross-entropy loss function and stochastic gradient descent optimizer.\n",
    "Trained the model using the bottleneck features, frozen ResNet50 layers, and the dog breed labels.\n",
    "Loaded the best weights of the trained model and used it to make predictions on new images.\n",
    "##### The reason for using transfer learning \n",
    "is that it allows us to leverage the pre-trained weights of a deep neural network, which was trained on a large dataset like ImageNet, to achieve good performance on our target task of dog breed classification. By using bottleneck features from the ResNet50 model, we could save a lot of computation time and resources that would have been required to train a deep network from scratch.\n",
    "\n",
    "The Global Average Pooling layer was used to reduce the spatial dimensions of the feature map while retaining the important features. The two Dense layers were added to perform non-linear transformations and to learn high-level representations of the bottleneck features. The final Dense layer, which had 133 nodes, was used to predict the probability of each dog breed class.\n",
    "#### why we choose this architecture\n",
    "We chose this architecture because it strikes a good balance between complexity and simplicity, and it has been shown to perform well on similar tasks like ImageNet classification."
   ]
  },
  {
   "cell_type": "markdown",
   "metadata": {},
   "source": [
    "### (IMPLEMENTATION) Compile the Model"
   ]
  },
  {
   "cell_type": "code",
   "execution_count": 31,
   "metadata": {},
   "outputs": [],
   "source": [
    "### TODO: Compile the model.\n",
    "model.compile(loss='categorical_crossentropy', optimizer='adam', metrics=['accuracy'])\n"
   ]
  },
  {
   "cell_type": "markdown",
   "metadata": {},
   "source": [
    "### (IMPLEMENTATION) Train the Model\n",
    "\n",
    "Train your model in the code cell below.  Use model checkpointing to save the model that attains the best validation loss.  \n",
    "\n",
    "You are welcome to [augment the training data](https://blog.keras.io/building-powerful-image-classification-models-using-very-little-data.html), but this is not a requirement. "
   ]
  },
  {
   "cell_type": "code",
   "execution_count": 32,
   "metadata": {},
   "outputs": [
    {
     "name": "stdout",
     "output_type": "stream",
     "text": [
      "(6680, 7, 7, 512)\n",
      "(835, 7, 7, 512)\n",
      "(836, 7, 7, 512)\n"
     ]
    }
   ],
   "source": [
    "bottleneck_features = np.load('bottleneck_features/DogVGG16Data.npz')\n",
    "print(bottleneck_features['train'].shape)\n",
    "print(bottleneck_features['valid'].shape)\n",
    "print(bottleneck_features['test'].shape)\n"
   ]
  },
  {
   "cell_type": "code",
   "execution_count": 33,
   "metadata": {},
   "outputs": [
    {
     "name": "stdout",
     "output_type": "stream",
     "text": [
      "Train on 6680 samples, validate on 835 samples\n",
      "Epoch 1/20\n",
      "6660/6680 [============================>.] - ETA: 0s - loss: 7.1371 - acc: 0.5413Epoch 00001: val_loss improved from inf to 8.08757, saving model to saved_models/weights.best.VGG16.hdf5\n",
      "6680/6680 [==============================] - 2s 314us/step - loss: 7.1399 - acc: 0.5412 - val_loss: 8.0876 - val_acc: 0.4323\n",
      "Epoch 2/20\n",
      "6640/6680 [============================>.] - ETA: 0s - loss: 7.0244 - acc: 0.5533Epoch 00002: val_loss improved from 8.08757 to 7.83152, saving model to saved_models/weights.best.VGG16.hdf5\n",
      "6680/6680 [==============================] - 2s 255us/step - loss: 7.0164 - acc: 0.5537 - val_loss: 7.8315 - val_acc: 0.4503\n",
      "Epoch 3/20\n",
      "6480/6680 [============================>.] - ETA: 0s - loss: 6.9503 - acc: 0.5576Epoch 00003: val_loss improved from 7.83152 to 7.76070, saving model to saved_models/weights.best.VGG16.hdf5\n",
      "6680/6680 [==============================] - 2s 253us/step - loss: 6.9651 - acc: 0.5566 - val_loss: 7.7607 - val_acc: 0.4479\n",
      "Epoch 4/20\n",
      "6520/6680 [============================>.] - ETA: 0s - loss: 6.9069 - acc: 0.5603Epoch 00004: val_loss improved from 7.76070 to 7.65976, saving model to saved_models/weights.best.VGG16.hdf5\n",
      "6680/6680 [==============================] - 2s 252us/step - loss: 6.8846 - acc: 0.5614 - val_loss: 7.6598 - val_acc: 0.4527\n",
      "Epoch 5/20\n",
      "6500/6680 [============================>.] - ETA: 0s - loss: 6.7524 - acc: 0.5705Epoch 00005: val_loss improved from 7.65976 to 7.60637, saving model to saved_models/weights.best.VGG16.hdf5\n",
      "6680/6680 [==============================] - 2s 252us/step - loss: 6.7378 - acc: 0.5716 - val_loss: 7.6064 - val_acc: 0.4647\n",
      "Epoch 6/20\n",
      "6560/6680 [============================>.] - ETA: 0s - loss: 6.7002 - acc: 0.5765Epoch 00006: val_loss did not improve\n",
      "6680/6680 [==============================] - 2s 249us/step - loss: 6.6946 - acc: 0.5769 - val_loss: 7.6076 - val_acc: 0.4539\n",
      "Epoch 7/20\n",
      "6640/6680 [============================>.] - ETA: 0s - loss: 6.6821 - acc: 0.5792Epoch 00007: val_loss improved from 7.60637 to 7.60492, saving model to saved_models/weights.best.VGG16.hdf5\n",
      "6680/6680 [==============================] - 2s 253us/step - loss: 6.6807 - acc: 0.5793 - val_loss: 7.6049 - val_acc: 0.4695\n",
      "Epoch 8/20\n",
      "6560/6680 [============================>.] - ETA: 0s - loss: 6.6179 - acc: 0.5808Epoch 00008: val_loss improved from 7.60492 to 7.58983, saving model to saved_models/weights.best.VGG16.hdf5\n",
      "6680/6680 [==============================] - 2s 251us/step - loss: 6.6199 - acc: 0.5807 - val_loss: 7.5898 - val_acc: 0.4671\n",
      "Epoch 9/20\n",
      "6500/6680 [============================>.] - ETA: 0s - loss: 6.5034 - acc: 0.5863Epoch 00009: val_loss improved from 7.58983 to 7.36903, saving model to saved_models/weights.best.VGG16.hdf5\n",
      "6680/6680 [==============================] - 2s 252us/step - loss: 6.5005 - acc: 0.5865 - val_loss: 7.3690 - val_acc: 0.4719\n",
      "Epoch 10/20\n",
      "6620/6680 [============================>.] - ETA: 0s - loss: 6.4400 - acc: 0.5950Epoch 00010: val_loss did not improve\n",
      "6680/6680 [==============================] - 2s 251us/step - loss: 6.4450 - acc: 0.5948 - val_loss: 7.3924 - val_acc: 0.4719\n",
      "Epoch 11/20\n",
      "6520/6680 [============================>.] - ETA: 0s - loss: 6.4495 - acc: 0.5948Epoch 00011: val_loss did not improve\n",
      "6680/6680 [==============================] - 2s 250us/step - loss: 6.4326 - acc: 0.5960 - val_loss: 7.4168 - val_acc: 0.4731\n",
      "Epoch 12/20\n",
      "6520/6680 [============================>.] - ETA: 0s - loss: 6.4261 - acc: 0.5963Epoch 00012: val_loss did not improve\n",
      "6680/6680 [==============================] - 2s 250us/step - loss: 6.4219 - acc: 0.5966 - val_loss: 7.4754 - val_acc: 0.4754\n",
      "Epoch 13/20\n",
      "6500/6680 [============================>.] - ETA: 0s - loss: 6.4171 - acc: 0.5980Epoch 00013: val_loss did not improve\n",
      "6680/6680 [==============================] - 2s 252us/step - loss: 6.3954 - acc: 0.5990 - val_loss: 7.4637 - val_acc: 0.4659\n",
      "Epoch 14/20\n",
      "6460/6680 [============================>.] - ETA: 0s - loss: 6.3119 - acc: 0.6014Epoch 00014: val_loss did not improve\n",
      "6680/6680 [==============================] - 2s 250us/step - loss: 6.3165 - acc: 0.6012 - val_loss: 7.5024 - val_acc: 0.4623\n",
      "Epoch 15/20\n",
      "6460/6680 [============================>.] - ETA: 0s - loss: 6.2671 - acc: 0.6068Epoch 00015: val_loss did not improve\n",
      "6680/6680 [==============================] - 2s 250us/step - loss: 6.2755 - acc: 0.6064 - val_loss: 7.4101 - val_acc: 0.4707\n",
      "Epoch 16/20\n",
      "6480/6680 [============================>.] - ETA: 0s - loss: 6.2280 - acc: 0.6108Epoch 00016: val_loss improved from 7.36903 to 7.36736, saving model to saved_models/weights.best.VGG16.hdf5\n",
      "6680/6680 [==============================] - 2s 252us/step - loss: 6.2647 - acc: 0.6085 - val_loss: 7.3674 - val_acc: 0.4814\n",
      "Epoch 17/20\n",
      "6480/6680 [============================>.] - ETA: 0s - loss: 6.2947 - acc: 0.6076Epoch 00017: val_loss did not improve\n",
      "6680/6680 [==============================] - 2s 254us/step - loss: 6.2586 - acc: 0.6097 - val_loss: 7.3718 - val_acc: 0.4731\n",
      "Epoch 18/20\n",
      "6480/6680 [============================>.] - ETA: 0s - loss: 6.2179 - acc: 0.6127Epoch 00018: val_loss did not improve\n",
      "6680/6680 [==============================] - 2s 252us/step - loss: 6.2538 - acc: 0.6105 - val_loss: 7.3811 - val_acc: 0.4826\n",
      "Epoch 19/20\n",
      "6460/6680 [============================>.] - ETA: 0s - loss: 6.1990 - acc: 0.6077Epoch 00019: val_loss improved from 7.36736 to 7.30631, saving model to saved_models/weights.best.VGG16.hdf5\n",
      "6680/6680 [==============================] - 2s 253us/step - loss: 6.2088 - acc: 0.6072 - val_loss: 7.3063 - val_acc: 0.4766\n",
      "Epoch 20/20\n",
      "6460/6680 [============================>.] - ETA: 0s - loss: 6.0865 - acc: 0.6128Epoch 00020: val_loss did not improve\n",
      "6680/6680 [==============================] - 2s 250us/step - loss: 6.0862 - acc: 0.6124 - val_loss: 7.3075 - val_acc: 0.4850\n"
     ]
    },
    {
     "data": {
      "text/plain": [
       "<keras.callbacks.History at 0x7fd8c62d8da0>"
      ]
     },
     "execution_count": 33,
     "metadata": {},
     "output_type": "execute_result"
    }
   ],
   "source": [
    "### TODO: Train the model.\n",
    "\n",
    "checkpointer = ModelCheckpoint(filepath='saved_models/weights.best.VGG16.hdf5', \n",
    "                               verbose=1, save_best_only=True)\n",
    "\n",
    "VGG16_model.fit(train_VGG16, train_targets, \n",
    "          validation_data=(valid_VGG16, valid_targets),\n",
    "          epochs=20, batch_size=20, callbacks=[checkpointer], verbose=1)\n"
   ]
  },
  {
   "cell_type": "markdown",
   "metadata": {},
   "source": [
    "### (IMPLEMENTATION) Load the Model with the Best Validation Loss"
   ]
  },
  {
   "cell_type": "code",
   "execution_count": 34,
   "metadata": {},
   "outputs": [],
   "source": [
    "### TODO: Load the model weights with the best validation loss.\n",
    "VGG16_model.load_weights('saved_models/weights.best.VGG16.hdf5')\n",
    "\n",
    "#model.load_weights(best_model_weights)"
   ]
  },
  {
   "cell_type": "markdown",
   "metadata": {},
   "source": [
    "### (IMPLEMENTATION) Test the Model\n",
    "\n",
    "Try out your model on the test dataset of dog images. Ensure that your test accuracy is greater than 60%."
   ]
  },
  {
   "cell_type": "code",
   "execution_count": 35,
   "metadata": {},
   "outputs": [
    {
     "name": "stdout",
     "output_type": "stream",
     "text": [
      "Test accuracy: 50.2392%\n"
     ]
    }
   ],
   "source": [
    "### TODO: Calculate classification accuracy on the test dataset.\n",
    "# get predicted probabilities for each image in test set\n",
    "VGG16_predictions = VGG16_model.predict(test_VGG16)\n",
    "\n",
    "# get index of predicted dog breed for each image in test set\n",
    "VGG16_breed_predictions = np.argmax(VGG16_predictions, axis=1)\n",
    "\n",
    "# calculate test accuracy\n",
    "test_accuracy = 100*np.sum(np.array(VGG16_breed_predictions)==np.argmax(test_targets, axis=1))/len(VGG16_breed_predictions)\n",
    "print('Test accuracy: %.4f%%' % test_accuracy)"
   ]
  },
  {
   "cell_type": "markdown",
   "metadata": {},
   "source": [
    "### (IMPLEMENTATION) Predict Dog Breed with the Model\n",
    "\n",
    "Write a function that takes an image path as input and returns the dog breed (`Affenpinscher`, `Afghan_hound`, etc) that is predicted by your model.  \n",
    "\n",
    "Similar to the analogous function in Step 5, your function should have three steps:\n",
    "1. Extract the bottleneck features corresponding to the chosen CNN model.\n",
    "2. Supply the bottleneck features as input to the model to return the predicted vector.  Note that the argmax of this prediction vector gives the index of the predicted dog breed.\n",
    "3. Use the `dog_names` array defined in Step 0 of this notebook to return the corresponding breed.\n",
    "\n",
    "The functions to extract the bottleneck features can be found in `extract_bottleneck_features.py`, and they have been imported in an earlier code cell.  To obtain the bottleneck features corresponding to your chosen CNN architecture, you need to use the function\n",
    "\n",
    "    extract_{network}\n",
    "    \n",
    "where `{network}`, in the above filename, should be one of `VGG19`, `Resnet50`, `InceptionV3`, or `Xception`."
   ]
  },
  {
   "cell_type": "code",
   "execution_count": 36,
   "metadata": {},
   "outputs": [],
   "source": [
    "### TODO: Write a function that takes a path to an image as input\n",
    "### and returns the dog breed that is predicted by the model."
   ]
  },
  {
   "cell_type": "code",
   "execution_count": 37,
   "metadata": {},
   "outputs": [],
   "source": [
    "from keras.preprocessing import image\n",
    "from keras.applications.vgg16 import preprocess_input\n",
    "import numpy as np\n",
    "\n",
    "def predict_breed_VGG16(img_path):\n",
    "    # Load image using keras.preprocessing.image.load_img\n",
    "    img = image.load_img(img_path, target_size=(224, 224))\n",
    "    \n",
    "    # Convert image to 3D tensor using keras.preprocessing.image.img_to_array\n",
    "    x = image.img_to_array(img)\n",
    "    \n",
    "    # Preprocess the tensor using keras.applications.vgg16.preprocess_input\n",
    "    x = preprocess_input(x)\n",
    "    \n",
    "    # Add extra dimension to the tensor to match the shape expected by the model\n",
    "    x = np.expand_dims(x, axis=0)\n",
    "    \n",
    "    # Use the VGG16 model to make a prediction\n",
    "    prediction = VGG16_model.predict(x)\n",
    "    \n",
    "    # Decode the prediction into a human-readable dog breed using the dog_names list\n",
    "    breed = dog_names[np.argmax(prediction)]\n",
    "    \n",
    "    return breed\n"
   ]
  },
  {
   "cell_type": "markdown",
   "metadata": {},
   "source": [
    "---\n",
    "<a id='step6'></a>\n",
    "## Step 6: Write your Algorithm\n",
    "\n",
    "Write an algorithm that accepts a file path to an image and first determines whether the image contains a human, dog, or neither.  Then,\n",
    "- if a __dog__ is detected in the image, return the predicted breed.\n",
    "- if a __human__ is detected in the image, return the resembling dog breed.\n",
    "- if __neither__ is detected in the image, provide output that indicates an error.\n",
    "\n",
    "You are welcome to write your own functions for detecting humans and dogs in images, but feel free to use the `face_detector` and `dog_detector` functions developed above.  You are __required__ to use your CNN from Step 5 to predict dog breed.  \n",
    "\n",
    "A sample image and output for our algorithm is provided below, but feel free to design your own user experience!\n",
    "\n",
    "![Sample Human Output](images/sample_human_2.png)\n",
    "\n",
    "This photo looks like an Afghan Hound.\n",
    "### (IMPLEMENTATION) Write your Algorithm"
   ]
  },
  {
   "cell_type": "code",
   "execution_count": 49,
   "metadata": {},
   "outputs": [],
   "source": [
    "### TODO: Write your algorithm.\n",
    "### Feel free to use as many code cells as needed."
   ]
  },
  {
   "cell_type": "code",
   "execution_count": 50,
   "metadata": {},
   "outputs": [],
   "source": [
    "\n",
    "# Function to extract bottleneck features using VGG16, VGG19, or Xception\n",
    "def extract_VGG16_VGG19_Xception_bottleneck_features(img_path):\n",
    "    \"\"\"\n",
    "    This function takes a file path to an image as input and returns the bottleneck features using\n",
    "    VGG16, VGG19, or Xception pre-trained model.\n",
    "    \n",
    "    Args:\n",
    "    img_path: file path to the image\n",
    "    \n",
    "    Returns:\n",
    "    A numpy array of bottleneck features.\n",
    "    \"\"\"\n",
    "    # Define image size\n",
    "    target_size = (224, 224)\n",
    "    \n",
    "    # Load image and resize it\n",
    "    img = image.load_img(img_path, target_size=target_size)\n",
    "    \n",
    "    # Convert image to a 3D tensor\n",
    "    x = image.img_to_array(img)\n",
    "    \n",
    "    # Preprocess the tensor\n",
    "    x = np.expand_dims(x, axis=0)\n",
    "    x = tf.keras.applications.vgg16.preprocess_input(x)\n",
    "    \n",
    "    # Extract bottleneck features using VGG16 model\n",
    "    if VGG16_model.layers[0].input_shape[1:3] == target_size:\n",
    "        bottleneck_feature = VGG16_model.predict(x)\n",
    "    \n",
    "    # Extract bottleneck features using VGG19 model\n",
    "    elif VGG19_model.layers[0].input_shape[1:3] == target_size:\n",
    "        bottleneck_feature = VGG19_model.predict(x)\n",
    "    \n",
    "    # Extract bottleneck features using Xception model\n",
    "    elif Xception_model.layers[0].input_shape[1:3] == target_size:\n",
    "        bottleneck_feature = Xception_model.predict(x)\n",
    "    \n",
    "    return bottleneck_feature"
   ]
  },
  {
   "cell_type": "markdown",
   "metadata": {},
   "source": [
    "### run_app\n",
    "    This function takes a file path to an image as input, and first determines whether the image contains a human, dog, or neither.\n",
    "    If a dog is detected in the image, it returns the predicted breed.\n",
    "    If a human is detected in the image, it returns the resembling dog breed.\n",
    "    If neither is detected in the image, it provides output that indicates an error.\n",
    "    \n",
    "    Args:\n",
    "    img_path: file path to the image\n",
    "    \n",
    "    Returns:\n",
    "    A string indicating the predicted dog breed or an error message.\n",
    "    "
   ]
  },
  {
   "cell_type": "code",
   "execution_count": 54,
   "metadata": {},
   "outputs": [],
   "source": [
    "def run_app(img_path):\n",
    "    # check if image file exists\n",
    "    if not os.path.exists(img_path):\n",
    "        print(f\"ERROR: Image file not found at {img_path}\")\n",
    "        return None\n",
    "    \n",
    "    # check if image contains a human or a dog\n",
    "    if face_detector(img_path):\n",
    "        print(\"Hello, human!\")\n",
    "        dog_breed = predict_breed(img_path)\n",
    "        print(f\"You look like a {dog_breed}.\")\n",
    "        plot_image(img_path)\n",
    "    elif dog_detector(img_path):\n",
    "        dog_breed = predict_breed(img_path)\n",
    "        print(f\"This dog looks like a {dog_breed}.\")\n",
    "        plot_image(img_path)\n",
    "    else:\n",
    "        print(\"Error: Neither a dog nor a human was detected in the image.\")\n"
   ]
  },
  {
   "cell_type": "code",
   "execution_count": null,
   "metadata": {},
   "outputs": [],
   "source": [
    "\n"
   ]
  },
  {
   "cell_type": "markdown",
   "metadata": {},
   "source": [
    "---\n",
    "<a id='step7'></a>\n",
    "## Step 7: Test Your Algorithm\n",
    "\n",
    "In this section, you will take your new algorithm for a spin!  What kind of dog does the algorithm think that __you__ look like?  If you have a dog, does it predict your dog's breed accurately?  If you have a cat, does it mistakenly think that your cat is a dog?\n",
    "\n",
    "### (IMPLEMENTATION) Test Your Algorithm on Sample Images!\n",
    "\n",
    "Test your algorithm at least six images on your computer.  Feel free to use any images you like.  Use at least two human and two dog images.  \n",
    "\n",
    "__Question 6:__ Is the output better than you expected :) ?  Or worse :( ?  Provide at least three possible points of improvement for your algorithm.\n",
    "\n",
    "__Answer:__ "
   ]
  },
  {
   "cell_type": "code",
   "execution_count": null,
   "metadata": {},
   "outputs": [],
   "source": [
    "## TODO: Execute your algorithm from Step 6 on\n",
    "## at least 6 images on your computer.\n",
    "## Feel free to use as many code cells as needed."
   ]
  },
  {
   "cell_type": "code",
   "execution_count": null,
   "metadata": {},
   "outputs": [],
   "source": [
    "import os\n",
    "image_path = input(\"Enter the file path of the image: \")\n",
    "result = run_app(image_path)\n",
    "print(result)"
   ]
  },
  {
   "cell_type": "markdown",
   "metadata": {},
   "source": [
    "The the output is near to be better than  expected.\n"
   ]
  },
  
  
  
  {
   "cell_type": "markdown",
   "metadata": {},
   "source": [
    "### Compare VGG16 True VS predicted"
   ]
  },
  {
   "cell_type": "code",
   "execution_count": 40,
   "metadata": {},
   "outputs": [
    {
     "name": "stdout",
     "output_type": "stream",
     "text": [
      "      Model   Accuracy\n",
      "0       CNN   5.023923\n",
      "1     VGG16  44.138756\n",
      "2  ResNet50  49.043062\n"
     ]
    }
   ],
   "source": [
    "import pandas as pd\n",
    "\n",
    "# create a dataframe with model names and their corresponding accuracy scores\n",
    "results = pd.DataFrame({'Model': ['CNN', 'VGG16', 'ResNet50'], \n",
    "                        'Accuracy': [test_accuracy, VGG16test_accuracy, VGG16test_accuracy1]})\n",
    "\n",
    "# display the dataframe\n",
    "print(results)\n"
   ]
  },
  {
   "cell_type": "code",
   "execution_count": 41,
   "metadata": {},
   "outputs": [
    {
     "data": {
      "image/png": "[encoded data removed]",
      "text/plain": [
       "<matplotlib.figure.Figure at 0x7f21d6c92f28>"
      ]
     },
     "metadata": {
      "needs_background": "light"
     },
     "output_type": "display_data"
    }
   ],
   "source": [
    "import matplotlib.pyplot as plt\n",
    "\n",
    "# Define the names and test accuracies of each model\n",
    "model_names = ['CNN', 'VGG16', 'VGG16 (with data augmentation)']\n",
    "test_accuracies = [test_accuracy, VGG16test_accuracy, VGG16test_accuracy1]\n",
    "\n",
    "# Create a bar plot of the test accuracies\n",
    "plt.bar(model_names, test_accuracies)\n",
    "\n",
    "# Set the title and axis labels\n",
    "plt.title('Test Accuracies')\n",
    "plt.xlabel('Model')\n",
    "plt.ylabel('Accuracy (%)')\n",
    "\n",
    "# Display the plot\n",
    "plt.show()\n"
   ]
  },
  {
   "cell_type": "code",
   "execution_count": 42,
   "metadata": {},
   "outputs": [
    {
     "data": {
      "image/png": "[encoded data removed]",
      "text/plain": [
       "<matplotlib.figure.Figure at 0x7f2200df9cf8>"
      ]
     },
     "metadata": {
      "needs_background": "light"
     },
     "output_type": "display_data"
    }
   ],
   "source": [
    "# get predicted probabilities for each image in test set\n",
    "VGG16_predictions = VGG16_model.predict(test_VGG16)\n",
    "\n",
    "# get index of predicted dog breed for each image in test set\n",
    "VGG16_breed_predictions = np.argmax(VGG16_predictions, axis=1)\n",
    "\n",
    "# get index of true dog breed for each image in test set\n",
    "true_breed = np.argmax(test_targets, axis=1)\n",
    "\n",
    "# create a scatter plot of true vs predicted values\n",
    "colors = ['red' if p != t else 'blue' for p, t in zip(VGG16_breed_predictions, true_breed)]\n",
    "plt.scatter(true_breed, VGG16_breed_predictions, c=colors)\n",
    "\n",
    "# set axis labels\n",
    "plt.xlabel('True Breed')\n",
    "plt.ylabel('Predicted Breed')\n",
    "\n",
    "# set title\n",
    "plt.title('True vs Predicted Value Distribution')\n",
    "\n",
    "# show plot\n",
    "plt.show()\n"
   ]
  },
  {
   "cell_type": "markdown",
   "metadata": {},
   "source": [
    "In this code, the colors list is created using a list comprehension that compares each predicted value to the true value. If they are not equal, the color is set to 'red', otherwise it is set to 'blue'. "
   ]
  },
  {
   "cell_type": "code",
   "execution_count": 43,
   "metadata": {},
   "outputs": [
    {
     "data": {
      "image/png": "[encoded data removed]",
      "text/plain": [
       "<matplotlib.figure.Figure at 0x7f21d6dd0898>"
      ]
     },
     "metadata": {
      "needs_background": "light"
     },
     "output_type": "display_data"
    }
   ],
   "source": [
    "from sklearn.metrics import confusion_matrix\n",
    "import seaborn as sns\n",
    "\n",
    "# get index of predicted dog breed for each image in test set\n",
    "VGG16_predictions = [np.argmax(VGG16_model.predict(np.expand_dims(feature, axis=0))) for feature in test_VGG16]\n",
    "\n",
    "# get index of true dog breed for each image in test set\n",
    "true_breed = np.argmax(test_targets, axis=1)\n",
    "\n",
    "# calculate confusion matrix\n",
    "cm = confusion_matrix(true_breed, VGG16_predictions)\n",
    "\n",
    "# plot confusion matrix as heatmap\n",
    "sns.heatmap(cm, annot=True, fmt='d', cmap='Blues')\n",
    "plt.xlabel('Predicted Class')\n",
    "plt.ylabel('True Class')\n",
    "plt.title('Confusion Matrix')\n",
    "plt.show()\n"
   ]
  },
  
  
  
  {
   "cell_type": "markdown",
   "metadata": {},
   "source": [
    "### Some possible points of improvement for the algorithm:\n",
    "\n",
    "#### 1. Increase the dataset size and diversity: \n",
    "The current dataset used to train the model is relatively small and lacks diversity. Collecting a larger and more diverse dataset will improve the accuracy of the model.\n",
    "\n",
    "#### 2. Fine-tune the model: \n",
    "The current model used to predict dog breeds was trained on top of pre-trained VGG-16 features. Fine-tuning the model by training on a larger dataset and adjusting the model architecture can improve its performance.\n",
    "\n",
    "\n",
    "\n",
    "#### 3. Improve human face detection: \n",
    "The current algorithm uses OpenCV's face detection function to detect human faces. Using a more advanced face detection model can improve the accuracy of detecting human faces.\n",
    "\n"
   ]
  },
  {
   "cell_type": "code",
   "execution_count": null,
   "metadata": {},
   "outputs": [],
   "source": []
  }
 ],
 "metadata": {
  "anaconda-cloud": {},
  "kernelspec": {
   "display_name": "Python 3",
   "language": "python",
   "name": "python3"
  },
  "language_info": {
   "codemirror_mode": {
    "name": "ipython",
    "version": 3
   },
   "file_extension": ".py",
   "mimetype": "text/x-python",
   "name": "python",
   "nbconvert_exporter": "python",
   "pygments_lexer": "ipython3",
   "version": "3.6.3"
  }
 },
 "nbformat": 4,
 "nbformat_minor": 1
}
